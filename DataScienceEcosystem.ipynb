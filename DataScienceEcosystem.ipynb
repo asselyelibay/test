{
 "cells": [
  {
   "cell_type": "markdown",
   "id": "bef9163c-45d4-4ea3-b4cf-9c0a4d8f9971",
   "metadata": {},
   "source": [
    "# Data Science Tools and Ecosystem"
   ]
  },
  {
   "cell_type": "markdown",
   "id": "0c3bc393-310c-405c-a2e2-b2a114de78a2",
   "metadata": {},
   "source": [
    "In this notebook, Data Science Tools and Ecosystem are summarized."
   ]
  },
  {
   "cell_type": "markdown",
   "id": "4f438d50-8064-47d0-b21a-b5b8fb44ee8a",
   "metadata": {},
   "source": [
    "Some of the popular languages that Data Scientists use are:\n",
    "1. R\n",
    "2. Python\n",
    "3. SQL"
   ]
  },
  {
   "cell_type": "markdown",
   "id": "240b896b-36b6-4e3e-ac19-b0499e30f0f9",
   "metadata": {},
   "source": [
    "Some of the commonly used libraries used by Data Scientists include:\n",
    "<ol>\n",
    "<li>Pandas</li>\n",
    "<li>NumPy</li>\n",
    "<li>SciPy</li>\n",
    "<li>Matplotlib</li>\n",
    "</ol>"
   ]
  },
  {
   "cell_type": "markdown",
   "id": "31157a21-ebc9-489d-b720-934b93f9a02d",
   "metadata": {},
   "source": [
    "| Data Science Tools   |\n",
    "|----------------------|\n",
    "| Jupyter Notebook     |\n",
    "| Oracle Database      |\n",
    "|Watson Studio         |\n",
    "| Informatica PowerCenter |\n"
   ]
  },
  {
   "cell_type": "markdown",
   "id": "edc1b0c3-c0a4-42fa-a0d3-14c68ad2938d",
   "metadata": {},
   "source": [
    "### Below are a few examples of evaluating arithmetic expressions in Python"
   ]
  },
  {
   "cell_type": "code",
   "execution_count": 4,
   "id": "89c6675c-e760-4035-bd89-d746cadf5487",
   "metadata": {},
   "outputs": [
    {
     "data": {
      "text/plain": [
       "17"
      ]
     },
     "execution_count": 4,
     "metadata": {},
     "output_type": "execute_result"
    }
   ],
   "source": [
    "# This a simple arithmetic expression to mutiply then add integers\n",
    "(3*4)+5"
   ]
  },
  {
   "cell_type": "code",
   "execution_count": 6,
   "id": "782007e7-3f5a-42df-b1f0-96db8436ed8a",
   "metadata": {},
   "outputs": [
    {
     "data": {
      "text/plain": [
       "3.3333333333333335"
      ]
     },
     "execution_count": 6,
     "metadata": {},
     "output_type": "execute_result"
    }
   ],
   "source": [
    "# This will convert 200 minutes to hours by dividing by 60\n",
    "minutes=200\n",
    "hours=minutes/60\n",
    "hours\n"
   ]
  },
  {
   "cell_type": "markdown",
   "id": "e4348a1a-c2fd-4309-99cf-7ee4fe0a2111",
   "metadata": {},
   "source": [
    "**Objectives:**\n",
    "\n",
    "- List popular languages for Data Science\n",
    "- Discuss commercial tools for data science\n",
    "- Identify cloud-based tools for data science tasks\n",
    "- Highlight data management and integration tools\n",
    "- Describe tools for model building and data asset management"
   ]
  },
  {
   "cell_type": "markdown",
   "id": "1b893a8f-fe1b-4f31-9f04-a601455cf648",
   "metadata": {},
   "source": [
    "## Author\n",
    "Assel Yelibay"
   ]
  },
  {
   "cell_type": "code",
   "execution_count": null,
   "id": "0dadcdce-df7a-456d-a270-3d9b5fe728f3",
   "metadata": {},
   "outputs": [],
   "source": []
  }
 ],
 "metadata": {
  "kernelspec": {
   "display_name": "Python 3 (ipykernel)",
   "language": "python",
   "name": "python3"
  },
  "language_info": {
   "codemirror_mode": {
    "name": "ipython",
    "version": 3
   },
   "file_extension": ".py",
   "mimetype": "text/x-python",
   "name": "python",
   "nbconvert_exporter": "python",
   "pygments_lexer": "ipython3",
   "version": "3.11.7"
  }
 },
 "nbformat": 4,
 "nbformat_minor": 5
}
